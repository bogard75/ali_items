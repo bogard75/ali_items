{
  "nbformat": 4,
  "nbformat_minor": 0,
  "metadata": {
    "colab": {
      "name": "alipy.ipynb",
      "provenance": [],
      "authorship_tag": "ABX9TyNT99PZzu400A2OMz2qDyd4",
      "include_colab_link": true
    },
    "kernelspec": {
      "name": "python3",
      "display_name": "Python 3"
    }
  },
  "cells": [
    {
      "cell_type": "markdown",
      "metadata": {
        "id": "view-in-github",
        "colab_type": "text"
      },
      "source": [
        "<a href=\"https://colab.research.google.com/github/bogard75/ali_items/blob/main/alipy.ipynb\" target=\"_parent\"><img src=\"https://colab.research.google.com/assets/colab-badge.svg\" alt=\"Open In Colab\"/></a>"
      ]
    },
    {
      "cell_type": "code",
      "metadata": {
        "colab": {
          "base_uri": "https://localhost:8080/"
        },
        "id": "k9c4Sy7y3JCT",
        "outputId": "060fbbfb-7803-4f9b-e5e2-4871098ce2b4"
      },
      "source": [
        "!pip install selenium\r\n",
        "!apt-get update\r\n",
        "!apt install chromium-chromedriver\r\n",
        "!cp /usr/lib/chromium-browser/chromedriver /usr/bin\r\n",
        "import sys\r\n",
        "sys.path.insert(0,'/usr/lib/chromium-browser/chromedriver')\r\n",
        "from selenium import webdriver\r\n",
        "chrome_options = webdriver.ChromeOptions()\r\n",
        "chrome_options.add_argument('--headless')\r\n",
        "chrome_options.add_argument('--no-sandbox')\r\n",
        "chrome_options.add_argument('--disable-dev-shm-usage')"
      ],
      "execution_count": 5,
      "outputs": [
        {
          "output_type": "stream",
          "text": [
            "Requirement already satisfied: selenium in /usr/local/lib/python3.6/dist-packages (3.141.0)\n",
            "Requirement already satisfied: urllib3 in /usr/local/lib/python3.6/dist-packages (from selenium) (1.24.3)\n",
            "Ign:1 https://developer.download.nvidia.com/compute/cuda/repos/ubuntu1804/x86_64  InRelease\n",
            "Hit:2 https://cloud.r-project.org/bin/linux/ubuntu bionic-cran40/ InRelease\n",
            "Ign:3 https://developer.download.nvidia.com/compute/machine-learning/repos/ubuntu1804/x86_64  InRelease\n",
            "Hit:4 http://ppa.launchpad.net/c2d4u.team/c2d4u4.0+/ubuntu bionic InRelease\n",
            "Hit:5 http://archive.ubuntu.com/ubuntu bionic InRelease\n",
            "Hit:6 http://security.ubuntu.com/ubuntu bionic-security InRelease\n",
            "Hit:7 https://developer.download.nvidia.com/compute/cuda/repos/ubuntu1804/x86_64  Release\n",
            "Hit:8 https://developer.download.nvidia.com/compute/machine-learning/repos/ubuntu1804/x86_64  Release\n",
            "Hit:9 http://archive.ubuntu.com/ubuntu bionic-updates InRelease\n",
            "Hit:10 http://ppa.launchpad.net/cran/libgit2/ubuntu bionic InRelease\n",
            "Hit:11 http://archive.ubuntu.com/ubuntu bionic-backports InRelease\n",
            "Hit:12 http://ppa.launchpad.net/graphics-drivers/ppa/ubuntu bionic InRelease\n",
            "Reading package lists... Done\n",
            "Reading package lists... Done\n",
            "Building dependency tree       \n",
            "Reading state information... Done\n",
            "chromium-chromedriver is already the newest version (87.0.4280.66-0ubuntu0.18.04.1).\n",
            "0 upgraded, 0 newly installed, 0 to remove and 17 not upgraded.\n",
            "cp: '/usr/lib/chromium-browser/chromedriver' and '/usr/bin/chromedriver' are the same file\n"
          ],
          "name": "stdout"
        }
      ]
    },
    {
      "cell_type": "code",
      "metadata": {
        "colab": {
          "base_uri": "https://localhost:8080/"
        },
        "id": "Hymce3bH2wAh",
        "outputId": "c1bc889a-3bb5-4a2e-8b8a-0723b4717dc9"
      },
      "source": [
        "import selenium.webdriver as webdriver\r\n",
        "from selenium.common.exceptions import NoSuchElementException\r\n",
        "from selenium.webdriver.common.keys import Keys\r\n",
        "#from bs4 import BeautifulSoup\r\n",
        "\r\n",
        "driver = webdriver.Chrome('chromedriver',chrome_options=chrome_options)"
      ],
      "execution_count": 7,
      "outputs": [
        {
          "output_type": "stream",
          "text": [
            "/usr/local/lib/python3.6/dist-packages/ipykernel_launcher.py:6: DeprecationWarning: use options instead of chrome_options\n",
            "  \n"
          ],
          "name": "stderr"
        }
      ]
    },
    {
      "cell_type": "code",
      "metadata": {
        "id": "hKoY3UYd245E"
      },
      "source": [
        "def item_counts(html, search):\r\n",
        "    driver.get(html+search)\r\n",
        "    driver.implicitly_wait(1) # seconds\r\n",
        "    \r\n",
        "    results = driver.find_element_by_class_name('next-breadcrumb-text.activated').text\r\n",
        "    print('results found : {}'.format(results))\r\n",
        "    \r\n",
        "    results = results.split('(')[-1].split()[0].replace(',','')\r\n",
        "    results = int(results)\r\n",
        "    \r\n",
        "    return results\r\n",
        "\r\n",
        "def search_items(html, search):\r\n",
        "    # read results count\r\n",
        "    results = item_counts(html, search)\r\n",
        "    items_per_page = 60\r\n",
        "    total_pages = int(results / items_per_page) + 1\r\n",
        "    \r\n",
        "    res = {}\r\n",
        "    for page in range(1,total_pages+1):\r\n",
        "        print('page {}---------------------------'.format(page))\r\n",
        "        s_ = search + '{0}'.format(page)\r\n",
        "        driver.get(html+s_)\r\n",
        "        driver.implicitly_wait(1) # seconds\r\n",
        "        \r\n",
        "        # select body\r\n",
        "        #body = driver.find_element_by_css_selector('body')\r\n",
        "        #body.click()\r\n",
        "        # pass new user coupon\r\n",
        "        try:\r\n",
        "            new_user = driver.find_element_by_xpath(\"/html/body/div[7]/div[2]/div/a\") # \"//next-dialog-close|//newuser-container\"\r\n",
        "        except NoSuchElementException:\r\n",
        "            pass \r\n",
        "        else:\r\n",
        "            print(\"new user clicked ----------\")\r\n",
        "            new_user.click()\r\n",
        "        \r\n",
        "        # scroll to bottom\r\n",
        "        # driver.execute_script(\"window.scrollTo(0, document.body.scrollHeight)\")\r\n",
        "        \r\n",
        "        for i in range(0,10):\r\n",
        "            body = driver.find_element_by_tag_name('body')\r\n",
        "            body.send_keys(Keys.PAGE_DOWN)\r\n",
        "            driver.implicitly_wait(1) # seconds\r\n",
        "        \r\n",
        "        #    sleep(1)\r\n",
        "        items = driver.find_elements_by_class_name(\"list-item\")\r\n",
        "        \r\n",
        "        for (n, i) in enumerate(items):\r\n",
        "            print('{}-----------'.format(n))\r\n",
        "            print(i.text)\r\n",
        "            print(i.find_element_by_tag_name('a').get_attribute('href'))\r\n",
        "            res['p{:02d}_i{:02d}'.format(page, n)] = i.find_element_by_tag_name('a').get_attribute('href')\r\n",
        "            \r\n",
        "    return res"
      ],
      "execution_count": 9,
      "outputs": []
    },
    {
      "cell_type": "code",
      "metadata": {
        "colab": {
          "base_uri": "https://localhost:8080/"
        },
        "id": "PYghUPOF4N9r",
        "outputId": "8f81c7ad-b19e-41ea-f50b-5f25464f1687"
      },
      "source": [
        "# mens clothing \r\n",
        "html = 'https://www.aliexpress.com/category/100003070/men-clothing.html' \r\n",
        "search = '?minPrice=1500&maxPrice=&page='\r\n",
        "#results = item_counts(html, search) # 464\r\n",
        "res1 = search_items(html, search)\r\n",
        "\r\n",
        "search = '?minPrice=1000&maxPrice=1500&page='  # 622\r\n",
        "#results = item_counts(html, search)\r\n",
        "res2 = search_items(html, search)\r\n",
        "\r\n",
        "search = '?minPrice=800&maxPrice=1000&page='  # 700\r\n",
        "#results = item_counts(html, search)\r\n",
        "res3 = search_items(html, search)\r\n",
        "\r\n",
        "search = '?minPrice=800&maxPrice=1000&page='  # 700\r\n",
        "#results = item_counts(html, search)\r\n",
        "res3 = search_items(html, search)\r\n",
        "\r\n"
      ],
      "execution_count": 14,
      "outputs": [
        {
          "output_type": "execute_result",
          "data": {
            "text/plain": [
              "406"
            ]
          },
          "metadata": {
            "tags": []
          },
          "execution_count": 14
        }
      ]
    }
  ]
}