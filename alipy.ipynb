{
  "nbformat": 4,
  "nbformat_minor": 0,
  "metadata": {
    "colab": {
      "name": "alipy.ipynb",
      "provenance": [],
      "authorship_tag": "ABX9TyMZpmoHEv/rVqyUwOCdXAoz",
      "include_colab_link": true
    },
    "kernelspec": {
      "name": "python3",
      "display_name": "Python 3"
    }
  },
  "cells": [
    {
      "cell_type": "markdown",
      "metadata": {
        "id": "view-in-github",
        "colab_type": "text"
      },
      "source": [
        "<a href=\"https://colab.research.google.com/github/bogard75/ali_items/blob/main/alipy.ipynb\" target=\"_parent\"><img src=\"https://colab.research.google.com/assets/colab-badge.svg\" alt=\"Open In Colab\"/></a>"
      ]
    },
    {
      "cell_type": "code",
      "metadata": {
        "colab": {
          "base_uri": "https://localhost:8080/",
          "height": 388
        },
        "id": "Hymce3bH2wAh",
        "outputId": "808917e2-62e5-4620-b354-09c161b10379"
      },
      "source": [
        "import selenium.webdriver as webdriver\r\n",
        "from selenium.common.exceptions import NoSuchElementException\r\n",
        "from selenium.webdriver.common.keys import Keys\r\n",
        "#from bs4 import BeautifulSoup\r\n",
        "\r\n"
      ],
      "execution_count": 1,
      "outputs": [
        {
          "output_type": "error",
          "ename": "ModuleNotFoundError",
          "evalue": "ignored",
          "traceback": [
            "\u001b[0;31m---------------------------------------------------------------------------\u001b[0m",
            "\u001b[0;31mModuleNotFoundError\u001b[0m                       Traceback (most recent call last)",
            "\u001b[0;32m<ipython-input-1-0406b21fb0cd>\u001b[0m in \u001b[0;36m<module>\u001b[0;34m()\u001b[0m\n\u001b[0;32m----> 1\u001b[0;31m \u001b[0;32mimport\u001b[0m \u001b[0mselenium\u001b[0m\u001b[0;34m.\u001b[0m\u001b[0mwebdriver\u001b[0m \u001b[0;32mas\u001b[0m \u001b[0mwebdriver\u001b[0m\u001b[0;34m\u001b[0m\u001b[0;34m\u001b[0m\u001b[0m\n\u001b[0m\u001b[1;32m      2\u001b[0m \u001b[0;32mfrom\u001b[0m \u001b[0mselenium\u001b[0m\u001b[0;34m.\u001b[0m\u001b[0mcommon\u001b[0m\u001b[0;34m.\u001b[0m\u001b[0mexceptions\u001b[0m \u001b[0;32mimport\u001b[0m \u001b[0mNoSuchElementException\u001b[0m\u001b[0;34m\u001b[0m\u001b[0;34m\u001b[0m\u001b[0m\n\u001b[1;32m      3\u001b[0m \u001b[0;32mfrom\u001b[0m \u001b[0mselenium\u001b[0m\u001b[0;34m.\u001b[0m\u001b[0mwebdriver\u001b[0m\u001b[0;34m.\u001b[0m\u001b[0mcommon\u001b[0m\u001b[0;34m.\u001b[0m\u001b[0mkeys\u001b[0m \u001b[0;32mimport\u001b[0m \u001b[0mKeys\u001b[0m\u001b[0;34m\u001b[0m\u001b[0;34m\u001b[0m\u001b[0m\n\u001b[1;32m      4\u001b[0m \u001b[0;31m#from bs4 import BeautifulSoup\u001b[0m\u001b[0;34m\u001b[0m\u001b[0;34m\u001b[0m\u001b[0;34m\u001b[0m\u001b[0m\n\u001b[1;32m      5\u001b[0m \u001b[0;34m\u001b[0m\u001b[0m\n",
            "\u001b[0;31mModuleNotFoundError\u001b[0m: No module named 'selenium'",
            "",
            "\u001b[0;31m---------------------------------------------------------------------------\u001b[0;32m\nNOTE: If your import is failing due to a missing package, you can\nmanually install dependencies using either !pip or !apt.\n\nTo view examples of installing some common dependencies, click the\n\"Open Examples\" button below.\n\u001b[0;31m---------------------------------------------------------------------------\u001b[0m\n"
          ]
        }
      ]
    },
    {
      "cell_type": "code",
      "metadata": {
        "id": "hKoY3UYd245E"
      },
      "source": [
        "\r\n",
        "driver = webdriver.Chrome()\r\n",
        "\r\n",
        "# mens clothing \r\n",
        "html = 'https://www.aliexpress.com/category/100003070/men-clothing.html' \r\n",
        "search = '?minPrice=1500&maxPrice=&page='\r\n",
        "#results = item_counts(html, search) # 464\r\n",
        "res = search_items(html, search)\r\n",
        "\r\n",
        "search = '?minPrice=1000&maxPrice=1500&page='  # 622\r\n",
        "#results = item_counts(html, search)\r\n",
        "res2 = search_items(html, search)\r\n",
        "\r\n",
        "search = '?minPrice=800&maxPrice=1000&page='  # 700\r\n",
        "#results = item_counts(html, search)\r\n",
        "res3 = search_items(html, search)\r\n",
        "\r\n",
        "search = '?minPrice=800&maxPrice=1000&page='  # 700\r\n",
        "#results = item_counts(html, search)\r\n",
        "res3 = search_items(html, search)\r\n",
        "\r\n",
        "\r\n",
        "\r\n",
        "def item_counts(html, search):\r\n",
        "    driver.get(html+search)\r\n",
        "    driver.implicitly_wait(1) # seconds\r\n",
        "    \r\n",
        "    results = driver.find_element_by_class_name('next-breadcrumb-text.activated').text\r\n",
        "    print('results found : {}'.format(results))\r\n",
        "    \r\n",
        "    results = results.split('(')[-1].split()[0].replace(',','')\r\n",
        "    results = int(results)\r\n",
        "    \r\n",
        "    return results\r\n",
        "\r\n",
        "def search_items(html, search):\r\n",
        "    # read results count\r\n",
        "    results = item_counts(html, search)\r\n",
        "    items_per_page = 60\r\n",
        "    total_pages = int(results / items_per_page) + 1\r\n",
        "    \r\n",
        "    res = {}\r\n",
        "    for page in range(1,total_pages+1):\r\n",
        "        print('page {}---------------------------'.format(page))\r\n",
        "        s_ = search + '{0}'.format(page)\r\n",
        "        driver.get(html+s_)\r\n",
        "        driver.implicitly_wait(1) # seconds\r\n",
        "        \r\n",
        "        # select body\r\n",
        "        #body = driver.find_element_by_css_selector('body')\r\n",
        "        #body.click()\r\n",
        "        # pass new user coupon\r\n",
        "        try:\r\n",
        "            new_user = driver.find_element_by_xpath(\"/html/body/div[7]/div[2]/div/a\") # \"//next-dialog-close|//newuser-container\"\r\n",
        "        except NoSuchElementException:\r\n",
        "            pass \r\n",
        "        else:\r\n",
        "            print(\"new user clicked ----------\")\r\n",
        "            new_user.click()\r\n",
        "        \r\n",
        "        # scroll to bottom\r\n",
        "        # driver.execute_script(\"window.scrollTo(0, document.body.scrollHeight)\")\r\n",
        "        \r\n",
        "        for i in range(0,10):\r\n",
        "            body = driver.find_element_by_tag_name('body')\r\n",
        "            body.send_keys(Keys.PAGE_DOWN)\r\n",
        "            driver.implicitly_wait(1) # seconds\r\n",
        "        \r\n",
        "        #    sleep(1)\r\n",
        "        items = driver.find_elements_by_class_name(\"list-item\")\r\n",
        "        \r\n",
        "        for (n, i) in enumerate(items):\r\n",
        "            print('{}-----------'.format(n))\r\n",
        "            print(i.text)\r\n",
        "            print(i.find_element_by_tag_name('a').get_attribute('href'))\r\n",
        "            res['p{:02d}_i{:02d}'.format(page, n)] = i.find_element_by_tag_name('a').get_attribute('href')\r\n",
        "            \r\n",
        "    return res"
      ],
      "execution_count": null,
      "outputs": []
    }
  ]
}